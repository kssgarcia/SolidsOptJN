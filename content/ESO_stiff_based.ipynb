{
 "cells": [
  {
   "cell_type": "code",
   "execution_count": null,
   "metadata": {},
   "outputs": [],
   "source": [
    "import matplotlib.pyplot as plt # Package for plotting\n",
    "import numpy as np # Package for scientific computing\n",
    "\n",
    "from Utils.ESO_utils import * # Fucntions for FEM analysis and postprocessing\n",
    "from Utils.beams import * # Functions for mesh generation\n",
    "# Solidspy 1.1.0\n",
    "import solidspy.postprocesor as pos # SolidsPy package for postprocessing\n",
    "np.seterr(divide='ignore', invalid='ignore') # Ignore division by zero error"
   ]
  },
  {
   "cell_type": "code",
   "execution_count": null,
   "metadata": {},
   "outputs": [],
   "source": [
    "length = 60\n",
    "height = 60\n",
    "nx = 50\n",
    "ny= 20\n",
    "nodes, mats, els, loads, BC = beam(L=length, H=height, nx=nx, ny=ny, n=2) # Generate mesh\n",
    "elsI,nodesI = np.copy(els), np.copy(nodes) # Copy mesh\n",
    "\n",
    "IBC, UG = preprocessing(nodes, mats, els, loads) # Calculate boundary conditions and global stiffness matrix\n",
    "UCI, E_nodesI, S_nodesI = postprocessing(nodes, mats[:,:2], els, IBC, UG) # Calculate displacements, strains and stresses\n",
    "niter = 200\n",
    "RR = 0.005 # Initial removal ratio\n",
    "ER = 0.005 # Removal ratio increment\n",
    "V_opt = volume(els, length, height, nx, ny) * 0.50 # Optimal volume\n",
    "ELS = None"
   ]
  },
  {
   "cell_type": "code",
   "execution_count": null,
   "metadata": {},
   "outputs": [],
   "source": [
    "for _ in range(niter):\n",
    "    # Check equilibrium\n",
    "    if not is_equilibrium(nodes, mats, els, loads) or volume(els, length, height, nx, ny) < V_opt: break # Check equilibrium/volume and stop if not\n",
    "    \n",
    "    # FEW analysis\n",
    "    IBC, UG = preprocessing(nodes, mats, els, loads) # Calculate boundary conditions and global stiffness matrix\n",
    "    UC, E_nodes, S_nodes = postprocessing(nodes, mats[:,:2], els, IBC, UG) # Calculate displacements, strains and stresses\n",
    "\n",
    "    # Compute Sensitivity number\n",
    "    sensi_number = sensi_el(nodes, mats, els, UC) # Sensitivity number\n",
    "    mask_del = sensi_number < RR # Mask of elements to be removed\n",
    "    mask_els = protect_els(els, loads, BC) # Mask of elements to do not remove\n",
    "    mask_del *= mask_els # Mask of elements to be removed and not protected\n",
    "    ELS = els # Save last iteration elements\n",
    "    \n",
    "    # Remove/add elements\n",
    "    els = np.delete(els, mask_del, 0) # Remove elements\n",
    "    del_node(nodes, els) # Remove nodes\n",
    "\n",
    "    RR += ER"
   ]
  },
  {
   "cell_type": "code",
   "execution_count": null,
   "metadata": {},
   "outputs": [],
   "source": [
    "pos.fields_plot(elsI, nodes, UCI, E_nodes=E_nodesI, S_nodes=S_nodesI) # Plot initial mesh"
   ]
  },
  {
   "cell_type": "code",
   "execution_count": null,
   "metadata": {},
   "outputs": [],
   "source": [
    "pos.fields_plot(ELS, nodes, UC, E_nodes=E_nodes, S_nodes=S_nodes) # Plot optimized mesh"
   ]
  },
  {
   "cell_type": "code",
   "execution_count": null,
   "metadata": {},
   "outputs": [],
   "source": [
    "fill_plot = np.ones(E_nodes.shape[0])\n",
    "plt.figure()\n",
    "tri = pos.mesh2tri(nodes, ELS)\n",
    "plt.tricontourf(tri, fill_plot, cmap='binary')\n",
    "plt.axis(\"image\");"
   ]
  }
 ],
 "metadata": {
  "language_info": {
   "name": "python"
  }
 },
 "nbformat": 4,
 "nbformat_minor": 2
}
